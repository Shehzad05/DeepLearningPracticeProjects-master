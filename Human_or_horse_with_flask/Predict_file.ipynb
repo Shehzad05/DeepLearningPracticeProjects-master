{
  "nbformat": 4,
  "nbformat_minor": 0,
  "metadata": {
    "colab": {
      "provenance": []
    },
    "kernelspec": {
      "name": "python3",
      "display_name": "Python 3"
    },
    "language_info": {
      "name": "python"
    }
  },
  "cells": [
    {
      "cell_type": "markdown",
      "source": [
        "#Predict Horse or Human"
      ],
      "metadata": {
        "id": "hoGnV2_qnmEj"
      }
    },
    {
      "cell_type": "markdown",
      "source": [
        "here we are loading train CNN model to predict Given(image) is Horse of human"
      ],
      "metadata": {
        "id": "tyOIG-s7nqS7"
      }
    },
    {
      "cell_type": "code",
      "execution_count": 30,
      "metadata": {
        "id": "zhzQEGPPngq1"
      },
      "outputs": [],
      "source": [
        "#load lab\n",
        "import numpy as np\n",
        "import keras\n",
        "# from keras.preprocessing import image\n",
        "# import keras.utils as image\n",
        "\n",
        "# import keras.utils as image\n"
      ]
    },
    {
      "cell_type": "markdown",
      "source": [
        "Import Model"
      ],
      "metadata": {
        "id": "c2Upj_vBpw3P"
      }
    },
    {
      "cell_type": "code",
      "source": [
        "model_path1 = '/content/drive/MyDrive/horse-or-human/horse_or_human_predictor.h5'\n",
        "\n",
        "model1 = keras.models.load_model(model_path1)"
      ],
      "metadata": {
        "id": "P054kWXJpvUU"
      },
      "execution_count": 31,
      "outputs": []
    },
    {
      "cell_type": "markdown",
      "source": [
        "Preprocessing"
      ],
      "metadata": {
        "id": "rH9LthbSqYcZ"
      }
    },
    {
      "cell_type": "code",
      "source": [
        "#horse images path\n",
        "h1 = '/content/drive/MyDrive/horse-or-human/horse-or-human/train/horses/horse01-0.png'\n",
        "h2 =  '/content/drive/MyDrive/horse-or-human/horse-or-human/train/horses/horse01-1.png'\n",
        "h3 =  '/content/drive/MyDrive/horse-or-human/horse-or-human/train/horses/horse01-2.png'\n",
        "h4 =  '/content/drive/MyDrive/horse-or-human/horse-or-human/train/horses/horse01-3.png'\n",
        "h5 =  '/content/drive/MyDrive/horse-or-human/horse-or-human/train/horses/horse01-4.png'\n",
        "\n",
        "#human images path\n",
        "hu1 = '/content/drive/MyDrive/horse-or-human/horse-or-human/train/humans/human01-00.png'\n",
        "hu2 = '/content/drive/MyDrive/horse-or-human/horse-or-human/train/humans/human01-02.png'\n",
        "hu3 = '/content/drive/MyDrive/horse-or-human/horse-or-human/train/humans/human01-03.png'\n",
        "hu4 = '/content/drive/MyDrive/horse-or-human/horse-or-human/train/humans/human01-04.png'\n",
        "hu5 = '/content/drive/MyDrive/horse-or-human/horse-or-human/train/humans/human01-05.png'\n"
      ],
      "metadata": {
        "id": "BvpLjhEDqU_-"
      },
      "execution_count": 32,
      "outputs": []
    },
    {
      "cell_type": "code",
      "source": [
        "import numpy as np\n",
        "from keras.preprocessing import image\n",
        "import tensorflow as tf\n",
        "import keras.utils as image\n",
        "\n",
        "#Copy from here\n",
        "def pred_human_horse(model, horse_or_human):\n",
        "  test_image = tf.keras.preprocessing.image.load_img(horse_or_human, target_size=(150,150))\n",
        "  test_image = image.img_to_array(test_image)/255\n",
        "  test_image = np.expand_dims(test_image, axis = 0)\n",
        "\n",
        "  result = model.predict(test_image).round(3)\n",
        "\n",
        "  pred = np.argmax(result)\n",
        "  print(result, \"-->>>\", pred)\n",
        "\n",
        "  if pred == 0:\n",
        "    print('Predicated>>> Horse')\n",
        "  \n",
        "  else:\n",
        "    print(\"Predicated>>> Human\")\n"
      ],
      "metadata": {
        "id": "HJVQ0UeJrdfE"
      },
      "execution_count": 37,
      "outputs": []
    },
    {
      "cell_type": "markdown",
      "source": [
        "Predict Output"
      ],
      "metadata": {
        "id": "E7i3m7ryyWUA"
      }
    },
    {
      "cell_type": "code",
      "source": [
        "for horse_or_human in [h1,h2,h3,h4,h5, hu1,hu2,hu3,hu4,hu5]:\n",
        "  pred_human_horse(model1, horse_or_human)"
      ],
      "metadata": {
        "colab": {
          "base_uri": "https://localhost:8080/"
        },
        "id": "-k2Kn1bfyVpD",
        "outputId": "55f64c36-3ffd-49c5-8faa-11dda1b7f310"
      },
      "execution_count": 38,
      "outputs": [
        {
          "output_type": "stream",
          "name": "stdout",
          "text": [
            "1/1 [==============================] - 1s 602ms/step\n",
            "[[0.604 0.396]] -->>> 0\n",
            "Predicated>>> Horse\n",
            "1/1 [==============================] - 0s 65ms/step\n",
            "[[0.825 0.175]] -->>> 0\n",
            "Predicated>>> Horse\n",
            "1/1 [==============================] - 0s 66ms/step\n",
            "[[0.854 0.146]] -->>> 0\n",
            "Predicated>>> Horse\n",
            "1/1 [==============================] - 0s 60ms/step\n",
            "[[0.848 0.152]] -->>> 0\n",
            "Predicated>>> Horse\n",
            "1/1 [==============================] - 0s 67ms/step\n",
            "[[0.844 0.156]] -->>> 0\n",
            "Predicated>>> Horse\n",
            "1/1 [==============================] - 0s 64ms/step\n",
            "[[0.222 0.778]] -->>> 1\n",
            "Predicated>>> Human\n",
            "1/1 [==============================] - 0s 58ms/step\n",
            "[[0.217 0.783]] -->>> 1\n",
            "Predicated>>> Human\n",
            "1/1 [==============================] - 0s 64ms/step\n",
            "[[0.213 0.787]] -->>> 1\n",
            "Predicated>>> Human\n",
            "1/1 [==============================] - 0s 39ms/step\n",
            "[[0.219 0.781]] -->>> 1\n",
            "Predicated>>> Human\n",
            "1/1 [==============================] - 0s 41ms/step\n",
            "[[0.231 0.769]] -->>> 1\n",
            "Predicated>>> Human\n"
          ]
        }
      ]
    },
    {
      "cell_type": "code",
      "source": [],
      "metadata": {
        "id": "k7nto7Wjy1oJ"
      },
      "execution_count": null,
      "outputs": []
    }
  ]
}